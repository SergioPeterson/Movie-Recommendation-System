{
 "cells": [
  {
   "cell_type": "code",
   "execution_count": 1,
   "metadata": {},
   "outputs": [
    {
     "name": "stdout",
     "output_type": "stream",
     "text": [
      "['userId', 'movieId', 'rating', 'timestamp', 'title', 'genres']\n"
     ]
    }
   ],
   "source": [
    "import csv\n",
    "\n",
    "# Open the CSV file\n",
    "with open('cleaned_movie_data.csv', mode='r') as file:\n",
    "    reader = csv.DictReader(file)\n",
    "    # Get the column names\n",
    "    column_names = reader.fieldnames\n",
    "\n",
    "print(column_names)"
   ]
  },
  {
   "cell_type": "code",
   "execution_count": 3,
   "metadata": {},
   "outputs": [
    {
     "name": "stdout",
     "output_type": "stream",
     "text": [
      "Header: ['userId', 'movieId', 'rating', 'timestamp', 'title', 'genres']\n",
      "['1', '17', '4.0', '944249077', 'Sense and Sensibility (1995)', \"['Drama', 'Romance']\"]\n",
      "['1', '25', '1.0', '944250228', 'Leaving Las Vegas (1995)', \"['Drama', 'Romance']\"]\n",
      "['1', '29', '2.0', '943230976', 'City of Lost Children, The (Cité des enfants perdus, La) (1995)', \"['Adventure', 'Drama', 'Fantasy', 'Mystery', 'Sci-Fi']\"]\n",
      "['1', '30', '5.0', '944249077', 'Shanghai Triad (Yao a yao yao dao waipo qiao) (1995)', \"['Crime', 'Drama']\"]\n",
      "['1', '32', '5.0', '943228858', 'Twelve Monkeys (a.k.a. 12 Monkeys) (1995)', \"['Mystery', 'Sci-Fi', 'Thriller']\"]\n"
     ]
    }
   ],
   "source": [
    "import csv\n",
    "\n",
    "# Open the CSV file\n",
    "with open('cleaned_movie_data.csv', mode='r') as file:\n",
    "    reader = csv.reader(file)\n",
    "    # Read the header\n",
    "    header = next(reader)\n",
    "    print(\"Header:\", header)\n",
    "    \n",
    "    # Print the first 5 rows\n",
    "    for i, row in enumerate(reader):\n",
    "        print(row)\n",
    "        if i == 4:  # Stop after 5 rows\n",
    "            break"
   ]
  },
  {
   "cell_type": "code",
   "execution_count": 4,
   "metadata": {},
   "outputs": [
    {
     "name": "stdout",
     "output_type": "stream",
     "text": [
      "Total number of rows (excluding header): 32000204\n"
     ]
    }
   ],
   "source": [
    "with open('cleaned_movie_data.csv', mode='r') as file:\n",
    "    reader = csv.reader(file)\n",
    "    total_rows = sum(1 for row in reader) - 1  # Subtract 1 for the header\n",
    "\n",
    "print(f\"Total number of rows (excluding header): {total_rows}\")"
   ]
  },
  {
   "cell_type": "code",
   "execution_count": null,
   "metadata": {},
   "outputs": [],
   "source": [
    "# moviedb=# select * from movies limit 5;\n",
    "#  movie_id |                              title                              |                  genres                  | description | year \n",
    "# ----------+-----------------------------------------------------------------+------------------------------------------+-------------+------\n",
    "#        17 | Sense and Sensibility (1995)                                    | {Drama,Romance}                          |             |     \n",
    "#        25 | Leaving Las Vegas (1995)                                        | {Drama,Romance}                          |             |     \n",
    "#        29 | City of Lost Children, The (Cité des enfants perdus, La) (1995) | {Adventure,Drama,Fantasy,Mystery,Sci-Fi} |             |     \n",
    "#        30 | Shanghai Triad (Yao a yao yao dao waipo qiao) (1995)            | {Crime,Drama}                            |             |     \n",
    "#        32 | Twelve Monkeys (a.k.a. 12 Monkeys) (1995)                       | {Mystery,Sci-Fi,Thriller}                |             |     \n",
    "# (5 rows)\n",
    "\n",
    "# moviedb=# select * from ratings limit 5;\n",
    "#  user_id | movie_id | rating | timestamp \n",
    "# ---------+----------+--------+-----------\n",
    "#        1 |       17 |      4 | 944249077\n",
    "#        1 |       25 |      1 | 944250228\n",
    "#        1 |       29 |      2 | 943230976\n",
    "#        1 |       30 |      5 | 944249077\n",
    "#        1 |       32 |      5 | 943228858\n",
    "# (5 rows)\n",
    "\n",
    "# moviedb=# select * from users limit 5;\n",
    "#  user_id | name |       email       \n",
    "# ---------+------+-------------------\n",
    "#        1 | 0    | user1@example.com\n",
    "#        2 | 1    | user2@example.com\n",
    "#        3 | 2    | user3@example.com\n",
    "#        4 | 3    | user4@example.com\n",
    "#        5 | 4    | user5@example.com\n",
    "# (5 rows)\n"
   ]
  },
  {
   "cell_type": "code",
   "execution_count": null,
   "metadata": {},
   "outputs": [],
   "source": [
    "# moviedb=# select COUNT(*) from movies limit 5;\n",
    "#  count \n",
    "# -------\n",
    "#  84432\n",
    "# (1 row)\n",
    "\n",
    "# moviedb=# select COUNT(*) from ratings limit 5;\n",
    "#   count   \n",
    "# ----------\n",
    "#  32000204\n",
    "# (1 row)\n",
    "\n",
    "# moviedb=# select COUNT(*) from users limit 5;\n",
    "#  count  \n",
    "# --------\n",
    "#  200948"
   ]
  }
 ],
 "metadata": {
  "kernelspec": {
   "display_name": "movie-recommender-env",
   "language": "python",
   "name": "python3"
  },
  "language_info": {
   "codemirror_mode": {
    "name": "ipython",
    "version": 3
   },
   "file_extension": ".py",
   "mimetype": "text/x-python",
   "name": "python",
   "nbconvert_exporter": "python",
   "pygments_lexer": "ipython3",
   "version": "3.11.6"
  }
 },
 "nbformat": 4,
 "nbformat_minor": 2
}
